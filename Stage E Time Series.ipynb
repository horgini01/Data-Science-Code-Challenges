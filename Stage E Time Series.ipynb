{
 "cells": [
  {
   "cell_type": "code",
   "execution_count": null,
   "id": "4eef0ea1",
   "metadata": {},
   "outputs": [],
   "source": [
    "from fbprophet import Prophet\n",
    "from fbprophet.plot import plot_weekly, plot_yearly\n",
    "from matplotlib import pyplot as plt\n",
    "import numpy as np\n",
    "import os\n",
    "import pandas as pd\n",
    "from pathlib import Path\n",
    "import requests\n",
    "from sklearn.metrics import mean_squared_error as mse\n",
    "import warnings\n",
    "from zipfile import ZipFile"
   ]
  },
  {
   "cell_type": "code",
   "execution_count": null,
   "id": "f9ebd08d",
   "metadata": {},
   "outputs": [],
   "source": [
    "sns.set() # For setting my preferred seaborn theme\n",
    "warnings.filterwarnings('ignore')\n",
    "pd.options.display.float_format = \"{:.2f}\".format"
   ]
  },
  {
   "cell_type": "code",
   "execution_count": null,
   "id": "08fa449c",
   "metadata": {},
   "outputs": [],
   "source": [
    "url = 'https://archive.ics.uci.edu/ml/machine-learning-databases/00235/household_power_consumption.zip'\n",
    "file = requests.get(url, allow_redirects=True) # downloading the zip file"
   ]
  },
  {
   "cell_type": "code",
   "execution_count": null,
   "id": "76f8c089",
   "metadata": {},
   "outputs": [],
   "source": [
    "downloads_path = str(Path.home()/'Downloads')\n",
    "file_name = 'house_power_comp.zip'\n",
    "file_name = '\\\\' + file_name"
   ]
  },
  {
   "cell_type": "code",
   "execution_count": null,
   "id": "be333169",
   "metadata": {},
   "outputs": [],
   "source": [
    "# Creating the zip file in the downloads folder of the user's computer\n",
    "with open(downloads_path + file_name, 'wb') as f:\n",
    "    f.write(file.content)"
   ]
  },
  {
   "cell_type": "code",
   "execution_count": null,
   "id": "9d250eac",
   "metadata": {},
   "outputs": [],
   "source": [
    "# Create a folder to dump the extracted files in\n",
    "try:\n",
    "    os.mkdir(Path.home()/'Downloads'/'new folder2')\n",
    "except FileExistsError:\n",
    "    pass\n",
    "\n",
    "# Unzipping the compressed file in the 'new folder2' in the users' downloads folder\n",
    "with ZipFile(downloads_path + file_name, 'r') as zipped_file:\n",
    "    print('contained in the zipped file:', zipped_file.namelist())\n",
    "    zipped_file.extractall(downloads_path + '\\\\new folder')"
   ]
  },
  {
   "cell_type": "code",
   "execution_count": null,
   "id": "f2264063",
   "metadata": {},
   "outputs": [],
   "source": [
    "# Reading the data into a pandas dataframe\n",
    "df = pd.read_csv(str(Path.home()/'Downloads'/'new folder') + \"\\\\\" + zipped_file.namelist()[0], sep=';', \n",
    "                 parse_dates={\"DateTime\":['Date','Time']})\n",
    "df.head()"
   ]
  },
  {
   "cell_type": "code",
   "execution_count": null,
   "id": "196ea64d",
   "metadata": {},
   "outputs": [],
   "source": [
    "df_copy = df.copy()\n",
    "df_copy"
   ]
  },
  {
   "cell_type": "code",
   "execution_count": null,
   "id": "3e79ac32",
   "metadata": {},
   "outputs": [],
   "source": [
    "df_copy.dtypes"
   ]
  },
  {
   "cell_type": "code",
   "execution_count": null,
   "id": "ffb8866b",
   "metadata": {},
   "outputs": [],
   "source": [
    "df_copy.describe(include='all')"
   ]
  },
  {
   "cell_type": "code",
   "execution_count": null,
   "id": "770a7132",
   "metadata": {},
   "outputs": [],
   "source": [
    "# df_copy.select_dtypes()"
   ]
  },
  {
   "cell_type": "code",
   "execution_count": null,
   "id": "d9d9d969",
   "metadata": {},
   "outputs": [],
   "source": [
    "df_copy.isna().sum()"
   ]
  },
  {
   "cell_type": "code",
   "execution_count": null,
   "id": "eaa09b50",
   "metadata": {},
   "outputs": [],
   "source": [
    "df_copy.loc[6839]"
   ]
  },
  {
   "cell_type": "code",
   "execution_count": null,
   "id": "7d6684c9",
   "metadata": {},
   "outputs": [],
   "source": [
    "#replacing the \"?\" with NaN\n",
    "df_copy.replace('?', np.nan, inplace=True)\n",
    "\n",
    "df_copy.isna().sum()"
   ]
  },
  {
   "cell_type": "code",
   "execution_count": null,
   "id": "1d88586e",
   "metadata": {},
   "outputs": [],
   "source": [
    "# Converting the object type columns to floats\n",
    "for col_name in df_copy.columns[1:]:\n",
    "    df_copy[col_name]=df_copy[col_name].astype('float')\n",
    "\n",
    "df_copy.dtypes"
   ]
  },
  {
   "cell_type": "code",
   "execution_count": null,
   "id": "7768ce6f",
   "metadata": {},
   "outputs": [],
   "source": [
    "# Replacing the missing values with the mean of the corresponding column values\n",
    "for col in df_copy.columns[1:]:\n",
    "    df_copy[col].fillna(df_copy[col].mean(), inplace=True)\n",
    "\n",
    "df_copy.isna().sum()"
   ]
  },
  {
   "cell_type": "code",
   "execution_count": null,
   "id": "df51c287",
   "metadata": {},
   "outputs": [],
   "source": [
    "# Replacing the missing values with the value that preceeds the missing value.\n",
    "for col in df_copy.columns[1:]:\n",
    "    df_copy[col].fillna(method='ffill', inplace=True)\n",
    "\n",
    "df_copy.isna().sum()"
   ]
  },
  {
   "cell_type": "code",
   "execution_count": null,
   "id": "38694dc0",
   "metadata": {},
   "outputs": [],
   "source": [
    "# Setting the DateTime column as the index of the dataframe\n",
    "df_copy.set_index('DateTime', inplace=True)"
   ]
  },
  {
   "cell_type": "code",
   "execution_count": null,
   "id": "2e689a6e",
   "metadata": {},
   "outputs": [],
   "source": [
    "# Downsampling\n",
    "df_day = df_copy.resample('D').mean()\n",
    "\n",
    "df_day"
   ]
  },
  {
   "cell_type": "code",
   "execution_count": null,
   "id": "028b57c2",
   "metadata": {},
   "outputs": [],
   "source": [
    "df_day.isna().sum()"
   ]
  },
  {
   "cell_type": "code",
   "execution_count": null,
   "id": "535db053",
   "metadata": {},
   "outputs": [],
   "source": [
    "for col in df_day.columns:\n",
    "    df_day[col].fillna(df_day[col].mean(), inplace=True)"
   ]
  },
  {
   "cell_type": "markdown",
   "id": "62f97e8e",
   "metadata": {},
   "source": [
    "<h2>Question 11</h2>"
   ]
  },
  {
   "cell_type": "code",
   "execution_count": null,
   "id": "e0a00352",
   "metadata": {},
   "outputs": [],
   "source": [
    "df_day.Global_active_power.plot(figsize=(16,6))\n",
    "plt.title('Global Active Power Over Time')\n",
    "plt.xlabel('Period')\n",
    "plt.ylabel('Global Active Power Value')\n",
    "plt.show()"
   ]
  },
  {
   "cell_type": "markdown",
   "id": "8c8ac4d5",
   "metadata": {},
   "source": [
    "<h2>Question 12</h2>"
   ]
  },
  {
   "cell_type": "code",
   "execution_count": null,
   "id": "02ef212d",
   "metadata": {},
   "outputs": [],
   "source": [
    "# Pearson correlation between Global active power and Global reactive power\n",
    "\n",
    "round(df_day.Global_active_power.corr(df_day.Global_reactive_power), 2)"
   ]
  },
  {
   "cell_type": "markdown",
   "id": "4752eb19",
   "metadata": {},
   "source": [
    "<h2>Question 13</h2>"
   ]
  },
  {
   "cell_type": "code",
   "execution_count": null,
   "id": "330000b4",
   "metadata": {},
   "outputs": [],
   "source": [
    "# \n",
    "\n",
    "round(df_day.Voltage.corr(df_day.Global_intensity), 2)"
   ]
  },
  {
   "cell_type": "markdown",
   "id": "5070c536",
   "metadata": {},
   "source": [
    "<h2>Question 14</h2>"
   ]
  },
  {
   "cell_type": "code",
   "execution_count": null,
   "id": "3657a832",
   "metadata": {},
   "outputs": [],
   "source": [
    "# Retrieveing the required data for the model\n",
    "model_data = df_day.reset_index()[['DateTime', 'Global_active_power']]\n",
    "model_data.rename(columns={'DateTime': 'ds', 'Global_active_power': 'y'}, inplace=True)\n",
    "model_data"
   ]
  },
  {
   "cell_type": "code",
   "execution_count": null,
   "id": "29cc1c6b",
   "metadata": {},
   "outputs": [],
   "source": [
    "train_set = model_data[:-365]\n",
    "train_set"
   ]
  },
  {
   "cell_type": "code",
   "execution_count": null,
   "id": "e54075ed",
   "metadata": {},
   "outputs": [],
   "source": [
    "test_set = model_data[-365:]\n",
    "test_set.reset_index(drop=True, inplace=True)\n",
    "test_set"
   ]
  },
  {
   "cell_type": "code",
   "execution_count": null,
   "id": "592ad6ab",
   "metadata": {},
   "outputs": [],
   "source": [
    "prophet = Prophet()"
   ]
  },
  {
   "cell_type": "code",
   "execution_count": null,
   "id": "9219fcaf",
   "metadata": {},
   "outputs": [],
   "source": [
    "prophet.fit(train_set)"
   ]
  },
  {
   "cell_type": "code",
   "execution_count": null,
   "id": "b04a78f4",
   "metadata": {},
   "outputs": [],
   "source": [
    "y_pred = model.predict(test_set)\n",
    "y_pred[['ds', 'yhat', 'trend']]"
   ]
  },
  {
   "cell_type": "code",
   "execution_count": null,
   "id": "5db2b0ba",
   "metadata": {},
   "outputs": [],
   "source": [
    "mape = round((np.mean(np.abs(np.array(test_set['y']) - np.array(y_pred.yhat[-365:])) / np.array(test_set['y'])) * 100), 2)\n",
    "print(f'Mean Absolute Percentage Error is {mape}')"
   ]
  },
  {
   "cell_type": "markdown",
   "id": "4f9ef711",
   "metadata": {},
   "source": [
    "<h2>Question 15</h2>"
   ]
  },
  {
   "cell_type": "code",
   "execution_count": null,
   "id": "8ae4ac86",
   "metadata": {},
   "outputs": [],
   "source": [
    "rmse = round(np.sqrt(mse(np.array(test_set['y']), np.array(y_pred['yhat']))), 2)\n",
    "print(f'Root Mean Squared Error is {rmse}')"
   ]
  },
  {
   "cell_type": "markdown",
   "id": "605d1bd0",
   "metadata": {},
   "source": [
    "<h2>Question 16</h2>"
   ]
  },
  {
   "cell_type": "code",
   "execution_count": null,
   "id": "7b237db8",
   "metadata": {},
   "outputs": [],
   "source": [
    "plot_yearly(prophet)"
   ]
  },
  {
   "cell_type": "markdown",
   "id": "d32e3ce3",
   "metadata": {},
   "source": [
    "<h2>Question 17</h2>"
   ]
  },
  {
   "cell_type": "code",
   "execution_count": null,
   "id": "39f06818",
   "metadata": {},
   "outputs": [],
   "source": [
    "data = df_day.rename(columns = {'Datetime':'ds','Global_active_power':'y', 'Global_reactive_power':'add1',\n",
    "                                'Voltage':'add2', 'Global_intensity':'add3','Sub_metering_1':'add4', \n",
    "                                'Sub_metering_2':'add5','Sub_metering_3':'add6'})\n",
    "\n",
    "data"
   ]
  },
  {
   "cell_type": "code",
   "execution_count": null,
   "id": "9bd029f2",
   "metadata": {},
   "outputs": [],
   "source": [
    "train_set_2 =data[:-365]\n",
    "train_set_2"
   ]
  },
  {
   "cell_type": "code",
   "execution_count": null,
   "id": "871f8cac",
   "metadata": {},
   "outputs": [],
   "source": [
    "test_set_2 = data[-365:]\n",
    "test_set_2"
   ]
  },
  {
   "cell_type": "code",
   "execution_count": null,
   "id": "3d2af3e5",
   "metadata": {},
   "outputs": [],
   "source": [
    "second_prophet = Prophet()\n",
    "second_prophet.add_regressor('add1')\n",
    "second_prophet.add_regressor('add2')\n",
    "second_prophet.add_regressor('add3')\n",
    "second_prophet.add_regressor('add4')\n",
    "second_prophet.add_regressor('add5')\n",
    "second_prophet.add_regressor('add6')"
   ]
  },
  {
   "cell_type": "code",
   "execution_count": null,
   "id": "45b1fead",
   "metadata": {},
   "outputs": [],
   "source": [
    "second_prophet.fit(train_set_2)\n",
    " \n",
    "y_pred_2 = second_prophet.predict(test_set_2)\n",
    "\n",
    "y_pred_2"
   ]
  },
  {
   "cell_type": "code",
   "execution_count": null,
   "id": "0e7c02c3",
   "metadata": {},
   "outputs": [],
   "source": [
    "mape_2 = round((np.mean(np.abs(np.array(test_set_2['y']) - np.array(y_pred_2['yhat'])) / np.array(test_set_2['y'])) * 100), 2)\n",
    "print(f'Mean Absolute Percentage Error is {mape_2}')"
   ]
  },
  {
   "cell_type": "markdown",
   "id": "9453b64d",
   "metadata": {},
   "source": [
    "<h2>Question 18</h2>"
   ]
  },
  {
   "cell_type": "code",
   "execution_count": null,
   "id": "f31df1d4",
   "metadata": {},
   "outputs": [],
   "source": [
    "rmse_2 = round(np.sqrt(mse(np.array(test_set_2['y']), np.array(y_pred_2['yhat']))), 2)\n",
    "print(f'Root Mean Squared Error is {rmse_2}')"
   ]
  },
  {
   "cell_type": "markdown",
   "id": "59b38963",
   "metadata": {},
   "source": [
    "<h2>Question 19</h2>"
   ]
  },
  {
   "cell_type": "code",
   "execution_count": null,
   "id": "0231cf4f",
   "metadata": {},
   "outputs": [],
   "source": [
    "plot_weekly(second_prophet)"
   ]
  }
 ],
 "metadata": {
  "kernelspec": {
   "display_name": "Python 3",
   "language": "python",
   "name": "python3"
  },
  "language_info": {
   "codemirror_mode": {
    "name": "ipython",
    "version": 3
   },
   "file_extension": ".py",
   "mimetype": "text/x-python",
   "name": "python",
   "nbconvert_exporter": "python",
   "pygments_lexer": "ipython3",
   "version": "3.8.8"
  }
 },
 "nbformat": 4,
 "nbformat_minor": 5
}
