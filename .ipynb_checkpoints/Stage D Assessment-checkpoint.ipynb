{
 "cells": [
  {
   "cell_type": "code",
   "execution_count": 5,
   "id": "33ffabe3",
   "metadata": {},
   "outputs": [],
   "source": [
    "import keras\n",
    "from keras.layers import BatchNormalization, Conv2D, Dense, Dropout, Flatten, MaxPooling2D\n",
    "from keras.models import Sequential\n",
    "from keras.preprocessing import image\n",
    "import numpy as np\n",
    "import pandas as pd\n",
    "from sklearn.model_selection import train_test_split\n",
    "import tensorflow as tf"
   ]
  },
  {
   "cell_type": "code",
   "execution_count": null,
   "id": "147314a5",
   "metadata": {},
   "outputs": [],
   "source": [
    "training_data = pd.read_csv('../input/planets-dataset/planet/planet/train_classes.csv')\n",
    "training_data = training_data.loc[:10_000]\n",
    "\n",
    "training_data"
   ]
  },
  {
   "cell_type": "code",
   "execution_count": null,
   "id": "2bd4105a",
   "metadata": {},
   "outputs": [],
   "source": [
    "training_tags = set()\n",
    "for tags in training_data.tags.unique():\n",
    "    for i in tags.split():\n",
    "        training_tags.add(i)\n",
    "\n",
    "training_tags"
   ]
  },
  {
   "cell_type": "code",
   "execution_count": null,
   "id": "eba1f83b",
   "metadata": {},
   "outputs": [],
   "source": [
    "for name in training_tags:\n",
    "    training_data[name] = 0\n",
    "\n",
    "training_data"
   ]
  },
  {
   "cell_type": "code",
   "execution_count": null,
   "id": "355d8a8b",
   "metadata": {},
   "outputs": [],
   "source": [
    "for j in training_tags:\n",
    "    for n, v in enumerate(training_data.tags.str.split()):\n",
    "        if j in v:\n",
    "            training_data.loc[n, j] = 1\n"
   ]
  },
  {
   "cell_type": "code",
   "execution_count": null,
   "id": "ca94d0f4",
   "metadata": {},
   "outputs": [],
   "source": [
    "training_data"
   ]
  },
  {
   "cell_type": "code",
   "execution_count": null,
   "id": "fba67211",
   "metadata": {},
   "outputs": [],
   "source": [
    "image_path = '../input/planets-dataset/planet/planet/train-jpg/'\n",
    "images = []"
   ]
  },
  {
   "cell_type": "code",
   "execution_count": null,
   "id": "cc93f940",
   "metadata": {},
   "outputs": [],
   "source": [
    "for i in range(training_data.shape[0]):\n",
    "    img = image.load_img(image_path + training_data['image_name'][i]+'.jpg', target_size=(140,180,3))\n",
    "    img = image.img_to_array(img)\n",
    "    img = img/255.0\n",
    "    images.append(img)\n",
    "\n",
    "\n",
    "x = np.array(images)\n",
    "x = np.asarray(x).astype(np.float32)"
   ]
  },
  {
   "cell_type": "code",
   "execution_count": null,
   "id": "c691b2ac",
   "metadata": {},
   "outputs": [],
   "source": [
    "y = np.array(training_data.drop(['image_name', 'tags'], axis=1))\n",
    "y = np.asarray(y).astype(np.float32)"
   ]
  },
  {
   "cell_type": "code",
   "execution_count": null,
   "id": "92a5e1c0",
   "metadata": {},
   "outputs": [],
   "source": [
    "x_train, x_test, y_train, y_test = train_test_split(x, y, random_state=3, test_size=0.2)"
   ]
  },
  {
   "cell_type": "code",
   "execution_count": null,
   "id": "b23f6d80",
   "metadata": {},
   "outputs": [],
   "source": [
    "def fbeta(y_actual, y_pred, beta=2, epsilon=1e-4):\n",
    "    beta_sq = beta**2\n",
    "    y_actual = tf.cast(y_actual, tf.float32)\n",
    "    y_pred = tf.cast(tf.greater(tf.cast(y_pred, tf.float32), tf.constant(0.5)), tf.float32)\n",
    "    \n",
    "    TP = tf.reduce_sum(y_actual * y_pred, axis=1)\n",
    "    FP = tf.reduce_sum(y_pred, axis=1) - TP\n",
    "    FN = tf.reduce_sum(y_actual, axis=1) - TP\n",
    "    \n",
    "    precision = TP / (TP + FP + epsilon)\n",
    "    recall = TP / (TP + FN + epsilon)\n",
    "    \n",
    "    fbeta_score = ((1 + beta_sq) * precision * recall) / (beta_sq * precision + recall + epsilon)\n",
    "    \n",
    "    return fbeta_score\n"
   ]
  },
  {
   "cell_type": "markdown",
   "id": "9df40e10",
   "metadata": {},
   "source": [
    "## Building the CNN"
   ]
  },
  {
   "cell_type": "code",
   "execution_count": null,
   "id": "05a95b80",
   "metadata": {},
   "outputs": [],
   "source": [
    "cnn = Sequential()"
   ]
  },
  {
   "cell_type": "code",
   "execution_count": null,
   "id": "7ac00af5",
   "metadata": {},
   "outputs": [],
   "source": [
    "# Convolution layer\n",
    "\n",
    "cnn.add(Conv2D(filters=32, kernel_size=3, activation='relu', input_shape=(140,180,3)))\n",
    "cnn.add(MaxPooling2D(pool_size=2))\n",
    "cnn.add(BatchNormalization())\n",
    "cnn.add(Dropout(0.2))"
   ]
  },
  {
   "cell_type": "code",
   "execution_count": null,
   "id": "e70e8d4e",
   "metadata": {},
   "outputs": [],
   "source": [
    "# Second layer\n",
    "\n",
    "cnn.add(Conv2D(filters=32, kernel_size=3, activation='relu'))\n",
    "cnn.add(MaxPooling2D(pool_size=2))\n",
    "cnn.add(BatchNormalization())\n",
    "cnn.add(Dropout(0.2))"
   ]
  },
  {
   "cell_type": "code",
   "execution_count": null,
   "id": "9e6f0772",
   "metadata": {},
   "outputs": [],
   "source": [
    "# Flattening\n",
    "\n",
    "cnn.add(Flatten())\n",
    "cnn.add(Dense(128, activation='relu'))\n",
    "cnn.add(Dropout(0.2))"
   ]
  },
  {
   "cell_type": "code",
   "execution_count": 3,
   "id": "473e7e2d",
   "metadata": {},
   "outputs": [
    {
     "ename": "NameError",
     "evalue": "name 'cnn' is not defined",
     "output_type": "error",
     "traceback": [
      "\u001b[1;31m---------------------------------------------------------------------------\u001b[0m",
      "\u001b[1;31mNameError\u001b[0m                                 Traceback (most recent call last)",
      "\u001b[1;32m<ipython-input-3-d5a70d5c55b3>\u001b[0m in \u001b[0;36m<module>\u001b[1;34m\u001b[0m\n\u001b[0;32m      1\u001b[0m \u001b[1;31m# Output layer\u001b[0m\u001b[1;33m\u001b[0m\u001b[1;33m\u001b[0m\u001b[1;33m\u001b[0m\u001b[0m\n\u001b[0;32m      2\u001b[0m \u001b[1;33m\u001b[0m\u001b[0m\n\u001b[1;32m----> 3\u001b[1;33m \u001b[0mcnn\u001b[0m\u001b[1;33m.\u001b[0m\u001b[0madd\u001b[0m\u001b[1;33m(\u001b[0m\u001b[0mDense\u001b[0m\u001b[1;33m(\u001b[0m\u001b[1;36m17\u001b[0m\u001b[1;33m,\u001b[0m \u001b[0mactivation\u001b[0m\u001b[1;33m=\u001b[0m\u001b[1;34m'sigmoid'\u001b[0m\u001b[1;33m)\u001b[0m\u001b[1;33m)\u001b[0m\u001b[1;33m\u001b[0m\u001b[1;33m\u001b[0m\u001b[0m\n\u001b[0m",
      "\u001b[1;31mNameError\u001b[0m: name 'cnn' is not defined"
     ]
    }
   ],
   "source": [
    "# Output layer\n",
    "\n",
    "cnn.add(Dense(17, activation='sigmoid'))"
   ]
  },
  {
   "cell_type": "code",
   "execution_count": null,
   "id": "d387d86a",
   "metadata": {},
   "outputs": [],
   "source": [
    "# Compiling the CNN\n",
    "\n",
    "cnn.compile(optimizer='adam', loss='binary_crossentropy', metrics=[fbeta])"
   ]
  },
  {
   "cell_type": "markdown",
   "id": "435f4a8e",
   "metadata": {},
   "source": [
    "## Training the Neural Network"
   ]
  },
  {
   "cell_type": "code",
   "execution_count": null,
   "id": "a183157d",
   "metadata": {},
   "outputs": [],
   "source": [
    "cnn.fit(x_train, y_train, epochs=20, validation_data=(x_test, y_test))"
   ]
  },
  {
   "cell_type": "code",
   "execution_count": null,
   "id": "ab036117",
   "metadata": {},
   "outputs": [],
   "source": [
    "# CNN evaluation\n",
    "\n",
    "f_beta = cnn.evaluate(x_test, y_test)\n",
    "\n",
    "print(f'Fbeta score is {fbeta}')"
   ]
  }
 ],
 "metadata": {
  "kernelspec": {
   "display_name": "Python 3",
   "language": "python",
   "name": "python3"
  },
  "language_info": {
   "codemirror_mode": {
    "name": "ipython",
    "version": 3
   },
   "file_extension": ".py",
   "mimetype": "text/x-python",
   "name": "python",
   "nbconvert_exporter": "python",
   "pygments_lexer": "ipython3",
   "version": "3.8.8"
  }
 },
 "nbformat": 4,
 "nbformat_minor": 5
}
