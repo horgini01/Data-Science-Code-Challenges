{
 "cells": [
  {
   "cell_type": "markdown",
   "id": "7663331c",
   "metadata": {},
   "source": [
    "<h2>Importing Dependencies</h2>"
   ]
  },
  {
   "cell_type": "code",
   "execution_count": 152,
   "id": "eb42d6e0",
   "metadata": {},
   "outputs": [],
   "source": [
    "import matplotlib.pyplot as plt\n",
    "import numpy as np\n",
    "import pandas as pd\n",
    "import seaborn as sns"
   ]
  },
  {
   "cell_type": "code",
   "execution_count": 153,
   "id": "c04f0713",
   "metadata": {},
   "outputs": [],
   "source": [
    "df = pd.read_csv('https://archive.ics.uci.edu/ml/machine-learning-databases/00374/energydata_complete.csv')"
   ]
  },
  {
   "cell_type": "code",
   "execution_count": 154,
   "id": "5a13ce8e",
   "metadata": {},
   "outputs": [
    {
     "data": {
      "text/html": [
       "<div>\n",
       "<style scoped>\n",
       "    .dataframe tbody tr th:only-of-type {\n",
       "        vertical-align: middle;\n",
       "    }\n",
       "\n",
       "    .dataframe tbody tr th {\n",
       "        vertical-align: top;\n",
       "    }\n",
       "\n",
       "    .dataframe thead th {\n",
       "        text-align: right;\n",
       "    }\n",
       "</style>\n",
       "<table border=\"1\" class=\"dataframe\">\n",
       "  <thead>\n",
       "    <tr style=\"text-align: right;\">\n",
       "      <th></th>\n",
       "      <th>date</th>\n",
       "      <th>Appliances</th>\n",
       "      <th>lights</th>\n",
       "      <th>T1</th>\n",
       "      <th>RH_1</th>\n",
       "      <th>T2</th>\n",
       "      <th>RH_2</th>\n",
       "      <th>T3</th>\n",
       "      <th>RH_3</th>\n",
       "      <th>T4</th>\n",
       "      <th>...</th>\n",
       "      <th>T9</th>\n",
       "      <th>RH_9</th>\n",
       "      <th>T_out</th>\n",
       "      <th>Press_mm_hg</th>\n",
       "      <th>RH_out</th>\n",
       "      <th>Windspeed</th>\n",
       "      <th>Visibility</th>\n",
       "      <th>Tdewpoint</th>\n",
       "      <th>rv1</th>\n",
       "      <th>rv2</th>\n",
       "    </tr>\n",
       "  </thead>\n",
       "  <tbody>\n",
       "    <tr>\n",
       "      <th>0</th>\n",
       "      <td>2016-01-11 17:00:00</td>\n",
       "      <td>60</td>\n",
       "      <td>30</td>\n",
       "      <td>19.89</td>\n",
       "      <td>47.596667</td>\n",
       "      <td>19.2</td>\n",
       "      <td>44.790000</td>\n",
       "      <td>19.79</td>\n",
       "      <td>44.730000</td>\n",
       "      <td>19.000000</td>\n",
       "      <td>...</td>\n",
       "      <td>17.033333</td>\n",
       "      <td>45.53</td>\n",
       "      <td>6.600000</td>\n",
       "      <td>733.5</td>\n",
       "      <td>92.0</td>\n",
       "      <td>7.000000</td>\n",
       "      <td>63.000000</td>\n",
       "      <td>5.3</td>\n",
       "      <td>13.275433</td>\n",
       "      <td>13.275433</td>\n",
       "    </tr>\n",
       "    <tr>\n",
       "      <th>1</th>\n",
       "      <td>2016-01-11 17:10:00</td>\n",
       "      <td>60</td>\n",
       "      <td>30</td>\n",
       "      <td>19.89</td>\n",
       "      <td>46.693333</td>\n",
       "      <td>19.2</td>\n",
       "      <td>44.722500</td>\n",
       "      <td>19.79</td>\n",
       "      <td>44.790000</td>\n",
       "      <td>19.000000</td>\n",
       "      <td>...</td>\n",
       "      <td>17.066667</td>\n",
       "      <td>45.56</td>\n",
       "      <td>6.483333</td>\n",
       "      <td>733.6</td>\n",
       "      <td>92.0</td>\n",
       "      <td>6.666667</td>\n",
       "      <td>59.166667</td>\n",
       "      <td>5.2</td>\n",
       "      <td>18.606195</td>\n",
       "      <td>18.606195</td>\n",
       "    </tr>\n",
       "    <tr>\n",
       "      <th>2</th>\n",
       "      <td>2016-01-11 17:20:00</td>\n",
       "      <td>50</td>\n",
       "      <td>30</td>\n",
       "      <td>19.89</td>\n",
       "      <td>46.300000</td>\n",
       "      <td>19.2</td>\n",
       "      <td>44.626667</td>\n",
       "      <td>19.79</td>\n",
       "      <td>44.933333</td>\n",
       "      <td>18.926667</td>\n",
       "      <td>...</td>\n",
       "      <td>17.000000</td>\n",
       "      <td>45.50</td>\n",
       "      <td>6.366667</td>\n",
       "      <td>733.7</td>\n",
       "      <td>92.0</td>\n",
       "      <td>6.333333</td>\n",
       "      <td>55.333333</td>\n",
       "      <td>5.1</td>\n",
       "      <td>28.642668</td>\n",
       "      <td>28.642668</td>\n",
       "    </tr>\n",
       "  </tbody>\n",
       "</table>\n",
       "<p>3 rows × 29 columns</p>\n",
       "</div>"
      ],
      "text/plain": [
       "                  date  Appliances  lights     T1       RH_1    T2       RH_2  \\\n",
       "0  2016-01-11 17:00:00          60      30  19.89  47.596667  19.2  44.790000   \n",
       "1  2016-01-11 17:10:00          60      30  19.89  46.693333  19.2  44.722500   \n",
       "2  2016-01-11 17:20:00          50      30  19.89  46.300000  19.2  44.626667   \n",
       "\n",
       "      T3       RH_3         T4  ...         T9   RH_9     T_out  Press_mm_hg  \\\n",
       "0  19.79  44.730000  19.000000  ...  17.033333  45.53  6.600000        733.5   \n",
       "1  19.79  44.790000  19.000000  ...  17.066667  45.56  6.483333        733.6   \n",
       "2  19.79  44.933333  18.926667  ...  17.000000  45.50  6.366667        733.7   \n",
       "\n",
       "   RH_out  Windspeed  Visibility  Tdewpoint        rv1        rv2  \n",
       "0    92.0   7.000000   63.000000        5.3  13.275433  13.275433  \n",
       "1    92.0   6.666667   59.166667        5.2  18.606195  18.606195  \n",
       "2    92.0   6.333333   55.333333        5.1  28.642668  28.642668  \n",
       "\n",
       "[3 rows x 29 columns]"
      ]
     },
     "execution_count": 154,
     "metadata": {},
     "output_type": "execute_result"
    }
   ],
   "source": [
    "df.head(3)"
   ]
  },
  {
   "cell_type": "code",
   "execution_count": 155,
   "id": "55399dbf",
   "metadata": {},
   "outputs": [],
   "source": [
    "headers={'T1': 'Temp_kitchen_celsius','RH_1': 'Humidity_kitchen_percent', 'T2': 'Temp_living_room',\n",
    "          'RH_2': 'Humidity_living_room', 'T3': 'Temp_laundry', 'RH_3': 'Humidity_laundry', 'T4': 'Temp_office',\n",
    "          'RH_4': 'Humidity_office', 'T5': 'Temp_bathroom', 'RH_5': 'Humidity_bathroom', 'T6': 'Temp_out_north', \n",
    "          'RH_6': 'Humidity_out_north', 'T7': 'Temp_ironing_room', 'RH_7': 'Humidity_ironing_room',\n",
    "          'T8': 'Temp_teen_room', 'RH_8': 'Humidity_teen_room','T9': 'Temp_parents_room', 'RH_9': 'Humidity_parents_room', \n",
    "          'T_out': 'Temp_out_chi', 'Press_mm_hg': 'Press_chievres_hg', 'RH_out': 'Humidity_out_chi',\n",
    "          'Windspeed': 'wind_speed_chi_m/s', 'Visibility': 'Visibility_chi_km', \n",
    "          'Tdewpoint': 'Tdewpoint_chi', 'rv1': 'Random_var_1', 'rv2': 'Random var_2'}"
   ]
  },
  {
   "cell_type": "code",
   "execution_count": 156,
   "id": "a882146f",
   "metadata": {},
   "outputs": [],
   "source": [
    "# Renaming the columns for better understanding.\n",
    "df.rename(columns=headers, inplace=True)"
   ]
  },
  {
   "cell_type": "code",
   "execution_count": 157,
   "id": "68c02287",
   "metadata": {},
   "outputs": [
    {
     "data": {
      "text/html": [
       "<div>\n",
       "<style scoped>\n",
       "    .dataframe tbody tr th:only-of-type {\n",
       "        vertical-align: middle;\n",
       "    }\n",
       "\n",
       "    .dataframe tbody tr th {\n",
       "        vertical-align: top;\n",
       "    }\n",
       "\n",
       "    .dataframe thead th {\n",
       "        text-align: right;\n",
       "    }\n",
       "</style>\n",
       "<table border=\"1\" class=\"dataframe\">\n",
       "  <thead>\n",
       "    <tr style=\"text-align: right;\">\n",
       "      <th></th>\n",
       "      <th>date</th>\n",
       "      <th>Appliances</th>\n",
       "      <th>lights</th>\n",
       "      <th>Temp_kitchen_celsius</th>\n",
       "      <th>Humidity_kitchen_percent</th>\n",
       "      <th>Temp_living_room</th>\n",
       "      <th>Humidity_living_room</th>\n",
       "      <th>Temp_laundry</th>\n",
       "      <th>Humidity_laundry</th>\n",
       "      <th>Temp_office</th>\n",
       "      <th>...</th>\n",
       "      <th>Temp_parents_room</th>\n",
       "      <th>Humidity_parents_room</th>\n",
       "      <th>Temp_out_chi</th>\n",
       "      <th>Press_chievres_hg</th>\n",
       "      <th>Humidity_out_chi</th>\n",
       "      <th>wind_speed_chi_m/s</th>\n",
       "      <th>Visibility_chi_km</th>\n",
       "      <th>Tdewpoint_chi</th>\n",
       "      <th>Random_var_1</th>\n",
       "      <th>Random var_2</th>\n",
       "    </tr>\n",
       "  </thead>\n",
       "  <tbody>\n",
       "    <tr>\n",
       "      <th>0</th>\n",
       "      <td>2016-01-11 17:00:00</td>\n",
       "      <td>60</td>\n",
       "      <td>30</td>\n",
       "      <td>19.89</td>\n",
       "      <td>47.596667</td>\n",
       "      <td>19.2</td>\n",
       "      <td>44.790000</td>\n",
       "      <td>19.79</td>\n",
       "      <td>44.730000</td>\n",
       "      <td>19.000000</td>\n",
       "      <td>...</td>\n",
       "      <td>17.033333</td>\n",
       "      <td>45.53</td>\n",
       "      <td>6.600000</td>\n",
       "      <td>733.5</td>\n",
       "      <td>92.0</td>\n",
       "      <td>7.000000</td>\n",
       "      <td>63.000000</td>\n",
       "      <td>5.3</td>\n",
       "      <td>13.275433</td>\n",
       "      <td>13.275433</td>\n",
       "    </tr>\n",
       "    <tr>\n",
       "      <th>1</th>\n",
       "      <td>2016-01-11 17:10:00</td>\n",
       "      <td>60</td>\n",
       "      <td>30</td>\n",
       "      <td>19.89</td>\n",
       "      <td>46.693333</td>\n",
       "      <td>19.2</td>\n",
       "      <td>44.722500</td>\n",
       "      <td>19.79</td>\n",
       "      <td>44.790000</td>\n",
       "      <td>19.000000</td>\n",
       "      <td>...</td>\n",
       "      <td>17.066667</td>\n",
       "      <td>45.56</td>\n",
       "      <td>6.483333</td>\n",
       "      <td>733.6</td>\n",
       "      <td>92.0</td>\n",
       "      <td>6.666667</td>\n",
       "      <td>59.166667</td>\n",
       "      <td>5.2</td>\n",
       "      <td>18.606195</td>\n",
       "      <td>18.606195</td>\n",
       "    </tr>\n",
       "    <tr>\n",
       "      <th>2</th>\n",
       "      <td>2016-01-11 17:20:00</td>\n",
       "      <td>50</td>\n",
       "      <td>30</td>\n",
       "      <td>19.89</td>\n",
       "      <td>46.300000</td>\n",
       "      <td>19.2</td>\n",
       "      <td>44.626667</td>\n",
       "      <td>19.79</td>\n",
       "      <td>44.933333</td>\n",
       "      <td>18.926667</td>\n",
       "      <td>...</td>\n",
       "      <td>17.000000</td>\n",
       "      <td>45.50</td>\n",
       "      <td>6.366667</td>\n",
       "      <td>733.7</td>\n",
       "      <td>92.0</td>\n",
       "      <td>6.333333</td>\n",
       "      <td>55.333333</td>\n",
       "      <td>5.1</td>\n",
       "      <td>28.642668</td>\n",
       "      <td>28.642668</td>\n",
       "    </tr>\n",
       "    <tr>\n",
       "      <th>3</th>\n",
       "      <td>2016-01-11 17:30:00</td>\n",
       "      <td>50</td>\n",
       "      <td>40</td>\n",
       "      <td>19.89</td>\n",
       "      <td>46.066667</td>\n",
       "      <td>19.2</td>\n",
       "      <td>44.590000</td>\n",
       "      <td>19.79</td>\n",
       "      <td>45.000000</td>\n",
       "      <td>18.890000</td>\n",
       "      <td>...</td>\n",
       "      <td>17.000000</td>\n",
       "      <td>45.40</td>\n",
       "      <td>6.250000</td>\n",
       "      <td>733.8</td>\n",
       "      <td>92.0</td>\n",
       "      <td>6.000000</td>\n",
       "      <td>51.500000</td>\n",
       "      <td>5.0</td>\n",
       "      <td>45.410389</td>\n",
       "      <td>45.410389</td>\n",
       "    </tr>\n",
       "    <tr>\n",
       "      <th>4</th>\n",
       "      <td>2016-01-11 17:40:00</td>\n",
       "      <td>60</td>\n",
       "      <td>40</td>\n",
       "      <td>19.89</td>\n",
       "      <td>46.333333</td>\n",
       "      <td>19.2</td>\n",
       "      <td>44.530000</td>\n",
       "      <td>19.79</td>\n",
       "      <td>45.000000</td>\n",
       "      <td>18.890000</td>\n",
       "      <td>...</td>\n",
       "      <td>17.000000</td>\n",
       "      <td>45.40</td>\n",
       "      <td>6.133333</td>\n",
       "      <td>733.9</td>\n",
       "      <td>92.0</td>\n",
       "      <td>5.666667</td>\n",
       "      <td>47.666667</td>\n",
       "      <td>4.9</td>\n",
       "      <td>10.084097</td>\n",
       "      <td>10.084097</td>\n",
       "    </tr>\n",
       "  </tbody>\n",
       "</table>\n",
       "<p>5 rows × 29 columns</p>\n",
       "</div>"
      ],
      "text/plain": [
       "                  date  Appliances  lights  Temp_kitchen_celsius  \\\n",
       "0  2016-01-11 17:00:00          60      30                 19.89   \n",
       "1  2016-01-11 17:10:00          60      30                 19.89   \n",
       "2  2016-01-11 17:20:00          50      30                 19.89   \n",
       "3  2016-01-11 17:30:00          50      40                 19.89   \n",
       "4  2016-01-11 17:40:00          60      40                 19.89   \n",
       "\n",
       "   Humidity_kitchen_percent  Temp_living_room  Humidity_living_room  \\\n",
       "0                 47.596667              19.2             44.790000   \n",
       "1                 46.693333              19.2             44.722500   \n",
       "2                 46.300000              19.2             44.626667   \n",
       "3                 46.066667              19.2             44.590000   \n",
       "4                 46.333333              19.2             44.530000   \n",
       "\n",
       "   Temp_laundry  Humidity_laundry  Temp_office  ...  Temp_parents_room  \\\n",
       "0         19.79         44.730000    19.000000  ...          17.033333   \n",
       "1         19.79         44.790000    19.000000  ...          17.066667   \n",
       "2         19.79         44.933333    18.926667  ...          17.000000   \n",
       "3         19.79         45.000000    18.890000  ...          17.000000   \n",
       "4         19.79         45.000000    18.890000  ...          17.000000   \n",
       "\n",
       "   Humidity_parents_room  Temp_out_chi  Press_chievres_hg  Humidity_out_chi  \\\n",
       "0                  45.53      6.600000              733.5              92.0   \n",
       "1                  45.56      6.483333              733.6              92.0   \n",
       "2                  45.50      6.366667              733.7              92.0   \n",
       "3                  45.40      6.250000              733.8              92.0   \n",
       "4                  45.40      6.133333              733.9              92.0   \n",
       "\n",
       "   wind_speed_chi_m/s  Visibility_chi_km  Tdewpoint_chi  Random_var_1  \\\n",
       "0            7.000000          63.000000            5.3     13.275433   \n",
       "1            6.666667          59.166667            5.2     18.606195   \n",
       "2            6.333333          55.333333            5.1     28.642668   \n",
       "3            6.000000          51.500000            5.0     45.410389   \n",
       "4            5.666667          47.666667            4.9     10.084097   \n",
       "\n",
       "   Random var_2  \n",
       "0     13.275433  \n",
       "1     18.606195  \n",
       "2     28.642668  \n",
       "3     45.410389  \n",
       "4     10.084097  \n",
       "\n",
       "[5 rows x 29 columns]"
      ]
     },
     "execution_count": 157,
     "metadata": {},
     "output_type": "execute_result"
    }
   ],
   "source": [
    "df.head(5)"
   ]
  },
  {
   "cell_type": "code",
   "execution_count": 159,
   "id": "eb0393c4",
   "metadata": {},
   "outputs": [
    {
     "data": {
      "text/html": [
       "<div>\n",
       "<style scoped>\n",
       "    .dataframe tbody tr th:only-of-type {\n",
       "        vertical-align: middle;\n",
       "    }\n",
       "\n",
       "    .dataframe tbody tr th {\n",
       "        vertical-align: top;\n",
       "    }\n",
       "\n",
       "    .dataframe thead th {\n",
       "        text-align: right;\n",
       "    }\n",
       "</style>\n",
       "<table border=\"1\" class=\"dataframe\">\n",
       "  <thead>\n",
       "    <tr style=\"text-align: right;\">\n",
       "      <th></th>\n",
       "      <th>Appliances</th>\n",
       "      <th>lights</th>\n",
       "      <th>Temp_kitchen_celsius</th>\n",
       "      <th>Humidity_kitchen_percent</th>\n",
       "      <th>Temp_living_room</th>\n",
       "      <th>Humidity_living_room</th>\n",
       "      <th>Temp_laundry</th>\n",
       "      <th>Humidity_laundry</th>\n",
       "      <th>Temp_office</th>\n",
       "      <th>Humidity_office</th>\n",
       "      <th>...</th>\n",
       "      <th>Temp_parents_room</th>\n",
       "      <th>Humidity_parents_room</th>\n",
       "      <th>Temp_out_chi</th>\n",
       "      <th>Press_chievres_hg</th>\n",
       "      <th>Humidity_out_chi</th>\n",
       "      <th>wind_speed_chi_m/s</th>\n",
       "      <th>Visibility_chi_km</th>\n",
       "      <th>Tdewpoint_chi</th>\n",
       "      <th>Random_var_1</th>\n",
       "      <th>Random var_2</th>\n",
       "    </tr>\n",
       "  </thead>\n",
       "  <tbody>\n",
       "    <tr>\n",
       "      <th>count</th>\n",
       "      <td>19735.000000</td>\n",
       "      <td>19735.000000</td>\n",
       "      <td>19735.000000</td>\n",
       "      <td>19735.000000</td>\n",
       "      <td>19735.000000</td>\n",
       "      <td>19735.000000</td>\n",
       "      <td>19735.000000</td>\n",
       "      <td>19735.000000</td>\n",
       "      <td>19735.000000</td>\n",
       "      <td>19735.000000</td>\n",
       "      <td>...</td>\n",
       "      <td>19735.000000</td>\n",
       "      <td>19735.000000</td>\n",
       "      <td>19735.000000</td>\n",
       "      <td>19735.000000</td>\n",
       "      <td>19735.000000</td>\n",
       "      <td>19735.000000</td>\n",
       "      <td>19735.000000</td>\n",
       "      <td>19735.000000</td>\n",
       "      <td>19735.000000</td>\n",
       "      <td>19735.000000</td>\n",
       "    </tr>\n",
       "    <tr>\n",
       "      <th>mean</th>\n",
       "      <td>97.694958</td>\n",
       "      <td>3.801875</td>\n",
       "      <td>21.686571</td>\n",
       "      <td>40.259739</td>\n",
       "      <td>20.341219</td>\n",
       "      <td>40.420420</td>\n",
       "      <td>22.267611</td>\n",
       "      <td>39.242500</td>\n",
       "      <td>20.855335</td>\n",
       "      <td>39.026904</td>\n",
       "      <td>...</td>\n",
       "      <td>19.485828</td>\n",
       "      <td>41.552401</td>\n",
       "      <td>7.411665</td>\n",
       "      <td>755.522602</td>\n",
       "      <td>79.750418</td>\n",
       "      <td>4.039752</td>\n",
       "      <td>38.330834</td>\n",
       "      <td>3.760707</td>\n",
       "      <td>24.988033</td>\n",
       "      <td>24.988033</td>\n",
       "    </tr>\n",
       "    <tr>\n",
       "      <th>std</th>\n",
       "      <td>102.524891</td>\n",
       "      <td>7.935988</td>\n",
       "      <td>1.606066</td>\n",
       "      <td>3.979299</td>\n",
       "      <td>2.192974</td>\n",
       "      <td>4.069813</td>\n",
       "      <td>2.006111</td>\n",
       "      <td>3.254576</td>\n",
       "      <td>2.042884</td>\n",
       "      <td>4.341321</td>\n",
       "      <td>...</td>\n",
       "      <td>2.014712</td>\n",
       "      <td>4.151497</td>\n",
       "      <td>5.317409</td>\n",
       "      <td>7.399441</td>\n",
       "      <td>14.901088</td>\n",
       "      <td>2.451221</td>\n",
       "      <td>11.794719</td>\n",
       "      <td>4.194648</td>\n",
       "      <td>14.496634</td>\n",
       "      <td>14.496634</td>\n",
       "    </tr>\n",
       "    <tr>\n",
       "      <th>min</th>\n",
       "      <td>10.000000</td>\n",
       "      <td>0.000000</td>\n",
       "      <td>16.790000</td>\n",
       "      <td>27.023333</td>\n",
       "      <td>16.100000</td>\n",
       "      <td>20.463333</td>\n",
       "      <td>17.200000</td>\n",
       "      <td>28.766667</td>\n",
       "      <td>15.100000</td>\n",
       "      <td>27.660000</td>\n",
       "      <td>...</td>\n",
       "      <td>14.890000</td>\n",
       "      <td>29.166667</td>\n",
       "      <td>-5.000000</td>\n",
       "      <td>729.300000</td>\n",
       "      <td>24.000000</td>\n",
       "      <td>0.000000</td>\n",
       "      <td>1.000000</td>\n",
       "      <td>-6.600000</td>\n",
       "      <td>0.005322</td>\n",
       "      <td>0.005322</td>\n",
       "    </tr>\n",
       "    <tr>\n",
       "      <th>25%</th>\n",
       "      <td>50.000000</td>\n",
       "      <td>0.000000</td>\n",
       "      <td>20.760000</td>\n",
       "      <td>37.333333</td>\n",
       "      <td>18.790000</td>\n",
       "      <td>37.900000</td>\n",
       "      <td>20.790000</td>\n",
       "      <td>36.900000</td>\n",
       "      <td>19.530000</td>\n",
       "      <td>35.530000</td>\n",
       "      <td>...</td>\n",
       "      <td>18.000000</td>\n",
       "      <td>38.500000</td>\n",
       "      <td>3.666667</td>\n",
       "      <td>750.933333</td>\n",
       "      <td>70.333333</td>\n",
       "      <td>2.000000</td>\n",
       "      <td>29.000000</td>\n",
       "      <td>0.900000</td>\n",
       "      <td>12.497889</td>\n",
       "      <td>12.497889</td>\n",
       "    </tr>\n",
       "    <tr>\n",
       "      <th>50%</th>\n",
       "      <td>60.000000</td>\n",
       "      <td>0.000000</td>\n",
       "      <td>21.600000</td>\n",
       "      <td>39.656667</td>\n",
       "      <td>20.000000</td>\n",
       "      <td>40.500000</td>\n",
       "      <td>22.100000</td>\n",
       "      <td>38.530000</td>\n",
       "      <td>20.666667</td>\n",
       "      <td>38.400000</td>\n",
       "      <td>...</td>\n",
       "      <td>19.390000</td>\n",
       "      <td>40.900000</td>\n",
       "      <td>6.916667</td>\n",
       "      <td>756.100000</td>\n",
       "      <td>83.666667</td>\n",
       "      <td>3.666667</td>\n",
       "      <td>40.000000</td>\n",
       "      <td>3.433333</td>\n",
       "      <td>24.897653</td>\n",
       "      <td>24.897653</td>\n",
       "    </tr>\n",
       "    <tr>\n",
       "      <th>75%</th>\n",
       "      <td>100.000000</td>\n",
       "      <td>0.000000</td>\n",
       "      <td>22.600000</td>\n",
       "      <td>43.066667</td>\n",
       "      <td>21.500000</td>\n",
       "      <td>43.260000</td>\n",
       "      <td>23.290000</td>\n",
       "      <td>41.760000</td>\n",
       "      <td>22.100000</td>\n",
       "      <td>42.156667</td>\n",
       "      <td>...</td>\n",
       "      <td>20.600000</td>\n",
       "      <td>44.338095</td>\n",
       "      <td>10.408333</td>\n",
       "      <td>760.933333</td>\n",
       "      <td>91.666667</td>\n",
       "      <td>5.500000</td>\n",
       "      <td>40.000000</td>\n",
       "      <td>6.566667</td>\n",
       "      <td>37.583769</td>\n",
       "      <td>37.583769</td>\n",
       "    </tr>\n",
       "    <tr>\n",
       "      <th>max</th>\n",
       "      <td>1080.000000</td>\n",
       "      <td>70.000000</td>\n",
       "      <td>26.260000</td>\n",
       "      <td>63.360000</td>\n",
       "      <td>29.856667</td>\n",
       "      <td>56.026667</td>\n",
       "      <td>29.236000</td>\n",
       "      <td>50.163333</td>\n",
       "      <td>26.200000</td>\n",
       "      <td>51.090000</td>\n",
       "      <td>...</td>\n",
       "      <td>24.500000</td>\n",
       "      <td>53.326667</td>\n",
       "      <td>26.100000</td>\n",
       "      <td>772.300000</td>\n",
       "      <td>100.000000</td>\n",
       "      <td>14.000000</td>\n",
       "      <td>66.000000</td>\n",
       "      <td>15.500000</td>\n",
       "      <td>49.996530</td>\n",
       "      <td>49.996530</td>\n",
       "    </tr>\n",
       "  </tbody>\n",
       "</table>\n",
       "<p>8 rows × 28 columns</p>\n",
       "</div>"
      ],
      "text/plain": [
       "         Appliances        lights  Temp_kitchen_celsius  \\\n",
       "count  19735.000000  19735.000000          19735.000000   \n",
       "mean      97.694958      3.801875             21.686571   \n",
       "std      102.524891      7.935988              1.606066   \n",
       "min       10.000000      0.000000             16.790000   \n",
       "25%       50.000000      0.000000             20.760000   \n",
       "50%       60.000000      0.000000             21.600000   \n",
       "75%      100.000000      0.000000             22.600000   \n",
       "max     1080.000000     70.000000             26.260000   \n",
       "\n",
       "       Humidity_kitchen_percent  Temp_living_room  Humidity_living_room  \\\n",
       "count              19735.000000      19735.000000          19735.000000   \n",
       "mean                  40.259739         20.341219             40.420420   \n",
       "std                    3.979299          2.192974              4.069813   \n",
       "min                   27.023333         16.100000             20.463333   \n",
       "25%                   37.333333         18.790000             37.900000   \n",
       "50%                   39.656667         20.000000             40.500000   \n",
       "75%                   43.066667         21.500000             43.260000   \n",
       "max                   63.360000         29.856667             56.026667   \n",
       "\n",
       "       Temp_laundry  Humidity_laundry   Temp_office  Humidity_office  ...  \\\n",
       "count  19735.000000      19735.000000  19735.000000     19735.000000  ...   \n",
       "mean      22.267611         39.242500     20.855335        39.026904  ...   \n",
       "std        2.006111          3.254576      2.042884         4.341321  ...   \n",
       "min       17.200000         28.766667     15.100000        27.660000  ...   \n",
       "25%       20.790000         36.900000     19.530000        35.530000  ...   \n",
       "50%       22.100000         38.530000     20.666667        38.400000  ...   \n",
       "75%       23.290000         41.760000     22.100000        42.156667  ...   \n",
       "max       29.236000         50.163333     26.200000        51.090000  ...   \n",
       "\n",
       "       Temp_parents_room  Humidity_parents_room  Temp_out_chi  \\\n",
       "count       19735.000000           19735.000000  19735.000000   \n",
       "mean           19.485828              41.552401      7.411665   \n",
       "std             2.014712               4.151497      5.317409   \n",
       "min            14.890000              29.166667     -5.000000   \n",
       "25%            18.000000              38.500000      3.666667   \n",
       "50%            19.390000              40.900000      6.916667   \n",
       "75%            20.600000              44.338095     10.408333   \n",
       "max            24.500000              53.326667     26.100000   \n",
       "\n",
       "       Press_chievres_hg  Humidity_out_chi  wind_speed_chi_m/s  \\\n",
       "count       19735.000000      19735.000000        19735.000000   \n",
       "mean          755.522602         79.750418            4.039752   \n",
       "std             7.399441         14.901088            2.451221   \n",
       "min           729.300000         24.000000            0.000000   \n",
       "25%           750.933333         70.333333            2.000000   \n",
       "50%           756.100000         83.666667            3.666667   \n",
       "75%           760.933333         91.666667            5.500000   \n",
       "max           772.300000        100.000000           14.000000   \n",
       "\n",
       "       Visibility_chi_km  Tdewpoint_chi  Random_var_1  Random var_2  \n",
       "count       19735.000000   19735.000000  19735.000000  19735.000000  \n",
       "mean           38.330834       3.760707     24.988033     24.988033  \n",
       "std            11.794719       4.194648     14.496634     14.496634  \n",
       "min             1.000000      -6.600000      0.005322      0.005322  \n",
       "25%            29.000000       0.900000     12.497889     12.497889  \n",
       "50%            40.000000       3.433333     24.897653     24.897653  \n",
       "75%            40.000000       6.566667     37.583769     37.583769  \n",
       "max            66.000000      15.500000     49.996530     49.996530  \n",
       "\n",
       "[8 rows x 28 columns]"
      ]
     },
     "execution_count": 159,
     "metadata": {},
     "output_type": "execute_result"
    }
   ],
   "source": [
    "df.describe()"
   ]
  },
  {
   "cell_type": "code",
   "execution_count": 160,
   "id": "a29c9ecb",
   "metadata": {},
   "outputs": [],
   "source": [
    "# Dropping the date and lights columns.\n",
    "try:\n",
    "    df.drop(['date', 'lights'], axis=1, inplace=True)\n",
    "except KeyError:\n",
    "    print('Columns have been dropped.')"
   ]
  },
  {
   "cell_type": "markdown",
   "id": "5c25a070",
   "metadata": {},
   "source": [
    "<h3>Normalising the dataset</h3>"
   ]
  },
  {
   "cell_type": "code",
   "execution_count": 161,
   "id": "d6967a27",
   "metadata": {},
   "outputs": [],
   "source": [
    "from sklearn.preprocessing import MinMaxScaler\n",
    "\n",
    "scaler = MinMaxScaler()\n",
    "data_normalised = False"
   ]
  },
  {
   "cell_type": "code",
   "execution_count": 162,
   "id": "686dc295",
   "metadata": {},
   "outputs": [],
   "source": [
    "# This is to ensure the normalisation is only executed once.\n",
    "if not(data_normalised):\n",
    "    normalised_df = pd.DataFrame(scaler.fit_transform(df), columns=df.columns) \n",
    "    data_normalised = True\n",
    "    normalised_df\n",
    "else:\n",
    "    print('Data has been normalised.')"
   ]
  },
  {
   "cell_type": "markdown",
   "id": "c5cc1b6d",
   "metadata": {},
   "source": [
    "<h3>Getting the training features(x) and target(y)</h3>"
   ]
  },
  {
   "cell_type": "code",
   "execution_count": 404,
   "id": "08c9d70f",
   "metadata": {},
   "outputs": [],
   "source": [
    "X = normalised_df.drop('Appliances', axis=1)\n",
    "y = normalised_df['Appliances']"
   ]
  },
  {
   "cell_type": "code",
   "execution_count": 405,
   "id": "39fed051",
   "metadata": {},
   "outputs": [],
   "source": [
    "# Splitting the data to obtain our training set and test set\n",
    "from sklearn.model_selection import train_test_split\n",
    "X_train, X_test, y_train, y_test = train_test_split(X, y, test_size=0.3, random_state=42)"
   ]
  },
  {
   "cell_type": "markdown",
   "id": "51a0b9d9",
   "metadata": {},
   "source": [
    "<h3>Model Training and Evaluation</h3>"
   ]
  },
  {
   "cell_type": "code",
   "execution_count": 441,
   "id": "ee62ef00",
   "metadata": {},
   "outputs": [],
   "source": [
    "from sklearn.linear_model import Lasso, LinearRegression, Ridge\n",
    "from sklearn.metrics import mean_absolute_error, mean_squared_error, r2_score"
   ]
  },
  {
   "cell_type": "code",
   "execution_count": 422,
   "id": "fd89c0e9",
   "metadata": {},
   "outputs": [],
   "source": [
    "lr = LinearRegression()"
   ]
  },
  {
   "cell_type": "code",
   "execution_count": 423,
   "id": "2e394963",
   "metadata": {},
   "outputs": [
    {
     "data": {
      "text/plain": [
       "LinearRegression()"
      ]
     },
     "execution_count": 423,
     "metadata": {},
     "output_type": "execute_result"
    }
   ],
   "source": [
    "lr.fit(X_train, y_train)"
   ]
  },
  {
   "cell_type": "code",
   "execution_count": 408,
   "id": "77ffb516",
   "metadata": {},
   "outputs": [],
   "source": [
    "y_pred = lr.predict(x_test)"
   ]
  },
  {
   "cell_type": "markdown",
   "id": "a97a8648",
   "metadata": {},
   "source": [
    "<h4>Selecting the feature T2 and target T6</h4>"
   ]
  },
  {
   "cell_type": "code",
   "execution_count": 440,
   "id": "01057482",
   "metadata": {},
   "outputs": [
    {
     "data": {
      "text/plain": [
       "<AxesSubplot:xlabel='Temp_living_room', ylabel='Temp_out_north'>"
      ]
     },
     "execution_count": 440,
     "metadata": {},
     "output_type": "execute_result"
    },
    {
     "data": {
      "image/png": "[encoded data removed]",
      "text/plain": [
       "<Figure size 360x288 with 1 Axes>"
      ]
     },
     "metadata": {
      "needs_background": "light"
     },
     "output_type": "display_data"
    }
   ],
   "source": [
    "plt.figure(figsize=(5,4))\n",
    "sns.regplot(x='Temp_living_room', y='Temp_out_north', data=df.sample(200, random_state=0))"
   ]
  },
  {
   "cell_type": "code",
   "execution_count": 411,
   "id": "f33f90c4",
   "metadata": {},
   "outputs": [
    {
     "data": {
      "text/plain": [
       "2"
      ]
     },
     "execution_count": 411,
     "metadata": {},
     "output_type": "execute_result"
    }
   ],
   "source": [
    "X1 = normalised_df[['Temp_living_room']] # T2\n",
    "y1 = normalised_df['Temp_out_north'] # T6\n",
    "x1.ndim"
   ]
  },
  {
   "cell_type": "code",
   "execution_count": 412,
   "id": "8a1cc993",
   "metadata": {},
   "outputs": [],
   "source": [
    "X_train1, X_test1, y_train1, y_test1 = train_test_split(X1, y1, test_size=0.3, random_state=42)"
   ]
  },
  {
   "cell_type": "code",
   "execution_count": 413,
   "id": "88325cfe",
   "metadata": {},
   "outputs": [],
   "source": [
    "lr.fit(X_train1, y_train1)\n",
    "y_hat = lr.predict(x_test1)"
   ]
  },
  {
   "cell_type": "markdown",
   "id": "7c47d69a",
   "metadata": {},
   "source": [
    "Calculating the <b>r squared (R_2)</b>"
   ]
  },
  {
   "cell_type": "code",
   "execution_count": 416,
   "id": "dc8f0216",
   "metadata": {},
   "outputs": [
    {
     "name": "stdout",
     "output_type": "stream",
     "text": [
      "The r_squared score is: 0.64\n"
     ]
    },
    {
     "data": {
      "text/plain": [
       "0.6427789637197382"
      ]
     },
     "execution_count": 416,
     "metadata": {},
     "output_type": "execute_result"
    }
   ],
   "source": [
    "r2 = round(lr.score(X_test1, y_test1), 2)\n",
    "print(f'The r_squared score is: {r2}')\n",
    "r2_score(y_test1, y_hat)"
   ]
  },
  {
   "cell_type": "markdown",
   "id": "46d55349",
   "metadata": {},
   "source": [
    "Calculating the <b>mean absolute error</b>"
   ]
  },
  {
   "cell_type": "code",
   "execution_count": 431,
   "id": "6c624c80",
   "metadata": {},
   "outputs": [
    {
     "name": "stdout",
     "output_type": "stream",
     "text": [
      "The mean absolute error is: 0.08\n"
     ]
    }
   ],
   "source": [
    "mae = round(mean_absolute_error(y_test1, y_hat), 2)\n",
    "print(f'The mean absolute error is: {mae}')"
   ]
  },
  {
   "cell_type": "markdown",
   "id": "0d233fa9",
   "metadata": {},
   "source": [
    "Calculating the <b>residual sum of squares</b>"
   ]
  },
  {
   "cell_type": "code",
   "execution_count": 426,
   "id": "57fa1c40",
   "metadata": {},
   "outputs": [
    {
     "name": "stdout",
     "output_type": "stream",
     "text": [
      "The residual sum of squares: 66.12\n"
     ]
    }
   ],
   "source": [
    "rss = np.sum(np.square(y_test1 - y_pred1))\n",
    "print('The residual sum of squares:', round(rss, 2))"
   ]
  },
  {
   "cell_type": "markdown",
   "id": "d1e656e3",
   "metadata": {},
   "source": [
    "Calculating the <b>root mean squared error</b>"
   ]
  },
  {
   "cell_type": "code",
   "execution_count": 430,
   "id": "2b9b59c6",
   "metadata": {},
   "outputs": [
    {
     "name": "stdout",
     "output_type": "stream",
     "text": [
      "The root mean squared error is: 0.11\n"
     ]
    }
   ],
   "source": [
    "mse = mean_squared_error(y_test1, y_hat)\n",
    "rmse = round(np.sqrt(mse), 2)\n",
    "print('The root mean squared error is:', rmse)"
   ]
  },
  {
   "cell_type": "markdown",
   "id": "7ba80f54",
   "metadata": {},
   "source": [
    "Calculating the <b>coefficient of Determination</b>"
   ]
  },
  {
   "cell_type": "code",
   "execution_count": 433,
   "id": "6eb3d278",
   "metadata": {},
   "outputs": [
    {
     "name": "stdout",
     "output_type": "stream",
     "text": [
      "The Coefficient of Determination is: 0.64\n"
     ]
    }
   ],
   "source": [
    "# The Coeff. of Determination is also know as r squared\n",
    "cod = round(r2_score(y_test1, y_hat), 2)\n",
    "print(f'The Coefficient of Determination is: {cod}')"
   ]
  },
  {
   "cell_type": "markdown",
   "id": "a858a3da",
   "metadata": {},
   "source": [
    "<h3>Obtaining the feature weights</h3>"
   ]
  },
  {
   "cell_type": "code",
   "execution_count": 454,
   "id": "5e98aa2e",
   "metadata": {},
   "outputs": [
    {
     "name": "stdout",
     "output_type": "stream",
     "text": [
      "Feature with the least weight is Humidity in the living room (RH_2) with value of  -0.45669794833850036\n",
      "Feature with the largest weight is Humidity in the kitchen (RH_1) with value of  0.5535465998386401 \n",
      "\n",
      "Humidity_living_room       -0.456698\n",
      "Temp_out_chi               -0.321860\n",
      "Temp_living_room           -0.236178\n",
      "Temp_parents_room          -0.189941\n",
      "Humidity_teen_room         -0.157595\n",
      "Humidity_out_chi           -0.077671\n",
      "Humidity_ironing_room      -0.044614\n",
      "Humidity_parents_room      -0.039800\n",
      "Temp_bathroom              -0.015657\n",
      "Temp_kitchen_celsius       -0.003281\n",
      "Random var_2                0.000770\n",
      "Random_var_1                0.000770\n",
      "Press_chievres_hg           0.006839\n",
      "Temp_ironing_room           0.010319\n",
      "Visibility_chi_km           0.012307\n",
      "Humidity_bathroom           0.016006\n",
      "Humidity_office             0.026386\n",
      "Temp_office                 0.028981\n",
      "wind_speed_chi_m/s          0.029183\n",
      "Humidity_out_north          0.038049\n",
      "Humidity_laundry            0.096048\n",
      "Temp_teen_room              0.101995\n",
      "Tdewpoint_chi               0.117758\n",
      "Temp_out_north              0.236425\n",
      "Temp_laundry                0.290627\n",
      "Humidity_kitchen_percent    0.553547\n",
      "dtype: float64\n"
     ]
    }
   ],
   "source": [
    "feature_weights = pd.Series(lr.coef_, x_train.columns).sort_values()\n",
    "min_coeff = feature_weights.min()\n",
    "max_coeff = feature_weights.max()\n",
    "print('Feature with the least weight is Humidity in the living room (RH_2) with value of ',min_coeff)\n",
    "print('Feature with the largest weight is Humidity in the kitchen (RH_1) with value of ',max_coeff, '\\n')\n",
    "print(feature_weights)"
   ]
  },
  {
   "cell_type": "markdown",
   "id": "04405e2b",
   "metadata": {},
   "source": [
    "<h3>Training Ridge Regression Model</h3>"
   ]
  },
  {
   "cell_type": "code",
   "execution_count": 455,
   "id": "222e48a5",
   "metadata": {},
   "outputs": [],
   "source": [
    "rr = Ridge(alpha=0.4)"
   ]
  },
  {
   "cell_type": "code",
   "execution_count": 456,
   "id": "feba25b8",
   "metadata": {},
   "outputs": [
    {
     "data": {
      "text/plain": [
       "Ridge(alpha=0.4)"
      ]
     },
     "execution_count": 456,
     "metadata": {},
     "output_type": "execute_result"
    }
   ],
   "source": [
    "rr.fit(X_train1, y_train1)"
   ]
  },
  {
   "cell_type": "code",
   "execution_count": 457,
   "id": "8d71a6ce",
   "metadata": {},
   "outputs": [],
   "source": [
    "y_hat_rr = rr.predict(x_test1)"
   ]
  },
  {
   "cell_type": "code",
   "execution_count": 461,
   "id": "6421431d",
   "metadata": {},
   "outputs": [
    {
     "data": {
      "text/plain": [
       "0.11"
      ]
     },
     "execution_count": 461,
     "metadata": {},
     "output_type": "execute_result"
    }
   ],
   "source": [
    "mse = mean_squared_error(y_test1, y_hat_rr)\n",
    "rr_rmse = round(np.sqrt(mse), 2)\n",
    "rr_rmse\n",
    "# No! There is on change in the RMSE using ridge regression model"
   ]
  },
  {
   "cell_type": "markdown",
   "id": "7070a7e7",
   "metadata": {},
   "source": [
    "<h3>Training Lasso Regression Model</h3>"
   ]
  },
  {
   "cell_type": "code",
   "execution_count": 462,
   "id": "684953b4",
   "metadata": {},
   "outputs": [],
   "source": [
    "lsr = Lasso(alpha=0.001)"
   ]
  },
  {
   "cell_type": "code",
   "execution_count": 469,
   "id": "78618474",
   "metadata": {},
   "outputs": [
    {
     "data": {
      "text/plain": [
       "Lasso(alpha=0.001)"
      ]
     },
     "execution_count": 469,
     "metadata": {},
     "output_type": "execute_result"
    }
   ],
   "source": [
    "lsr.fit(X_train, y_train)"
   ]
  },
  {
   "cell_type": "code",
   "execution_count": 476,
   "id": "797f5d9f",
   "metadata": {},
   "outputs": [
    {
     "name": "stdout",
     "output_type": "stream",
     "text": [
      "There are 4 none zero weights.\n"
     ]
    }
   ],
   "source": [
    "count = 0\n",
    "for i in pd.Series(lsr.coef_, x_train.columns).values:\n",
    "    if i != 0:\n",
    "        count += 1\n",
    "print(f'There are {count} none zero weights.')"
   ]
  },
  {
   "cell_type": "markdown",
   "id": "126094cd",
   "metadata": {},
   "source": [
    "<h3>Root Mean Squared Error with Lasso Regression Model</h3>"
   ]
  },
  {
   "cell_type": "code",
   "execution_count": 478,
   "id": "845cfde7",
   "metadata": {},
   "outputs": [],
   "source": [
    "y_pred_lsr = lsr.predict(x_test)"
   ]
  },
  {
   "cell_type": "code",
   "execution_count": 481,
   "id": "4e3a5e6a",
   "metadata": {},
   "outputs": [
    {
     "name": "stdout",
     "output_type": "stream",
     "text": [
      "The rmse for the Lasso regression model is: 0.094\n"
     ]
    }
   ],
   "source": [
    "mse = mean_squared_error(y_test, y_pred_lsr)\n",
    "lsr_rmse = round(np.sqrt(mse), 3)\n",
    "print('The rmse for the Lasso regression model is:', lsr_rmse)"
   ]
  },
  {
   "cell_type": "code",
   "execution_count": null,
   "id": "69141130",
   "metadata": {},
   "outputs": [],
   "source": []
  }
 ],
 "metadata": {
  "kernelspec": {
   "display_name": "Python 3",
   "language": "python",
   "name": "python3"
  },
  "language_info": {
   "codemirror_mode": {
    "name": "ipython",
    "version": 3
   },
   "file_extension": ".py",
   "mimetype": "text/x-python",
   "name": "python",
   "nbconvert_exporter": "python",
   "pygments_lexer": "ipython3",
   "version": "3.8.8"
  }
 },
 "nbformat": 4,
 "nbformat_minor": 5
}
